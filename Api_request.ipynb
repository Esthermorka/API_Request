{
 "cells": [
  {
   "cell_type": "code",
   "execution_count": 1,
   "id": "fbec38ec",
   "metadata": {},
   "outputs": [],
   "source": [
    "import requests\n",
    "import pandas as pd\n",
    "import json"
   ]
  },
  {
   "cell_type": "code",
   "execution_count": 38,
   "id": "c7ab1006",
   "metadata": {},
   "outputs": [],
   "source": [
    "url = 'http://www.omdbapi.com/?i=tt3896198&apikey=3b2e0fa7'"
   ]
  },
  {
   "cell_type": "code",
   "execution_count": 40,
   "id": "87f94c27",
   "metadata": {},
   "outputs": [
    {
     "data": {
      "text/plain": [
       "<Response [200]>"
      ]
     },
     "execution_count": 40,
     "metadata": {},
     "output_type": "execute_result"
    }
   ],
   "source": [
    "res = requests.get(url)\n",
    "\n",
    "res"
   ]
  },
  {
   "cell_type": "code",
   "execution_count": 41,
   "id": "eec671c3",
   "metadata": {},
   "outputs": [
    {
     "data": {
      "text/plain": [
       "{'Title': 'Guardians of the Galaxy Vol. 2',\n",
       " 'Year': '2017',\n",
       " 'Rated': 'PG-13',\n",
       " 'Released': '05 May 2017',\n",
       " 'Runtime': '136 min',\n",
       " 'Genre': 'Action, Adventure, Comedy',\n",
       " 'Director': 'James Gunn',\n",
       " 'Writer': 'James Gunn, Dan Abnett, Andy Lanning',\n",
       " 'Actors': 'Chris Pratt, Zoe Saldana, Dave Bautista',\n",
       " 'Plot': \"The Guardians struggle to keep together as a team while dealing with their personal family issues, notably Star-Lord's encounter with his father the ambitious celestial being Ego.\",\n",
       " 'Language': 'English',\n",
       " 'Country': 'United States',\n",
       " 'Awards': 'Nominated for 1 Oscar. 15 wins & 60 nominations total',\n",
       " 'Poster': 'https://m.media-amazon.com/images/M/MV5BNjM0NTc0NzItM2FlYS00YzEwLWE0YmUtNTA2ZWIzODc2OTgxXkEyXkFqcGdeQXVyNTgwNzIyNzg@._V1_SX300.jpg',\n",
       " 'Ratings': [{'Source': 'Internet Movie Database', 'Value': '7.6/10'},\n",
       "  {'Source': 'Rotten Tomatoes', 'Value': '85%'},\n",
       "  {'Source': 'Metacritic', 'Value': '67/100'}],\n",
       " 'Metascore': '67',\n",
       " 'imdbRating': '7.6',\n",
       " 'imdbVotes': '691,435',\n",
       " 'imdbID': 'tt3896198',\n",
       " 'Type': 'movie',\n",
       " 'DVD': '22 Aug 2017',\n",
       " 'BoxOffice': '$389,813,101',\n",
       " 'Production': 'N/A',\n",
       " 'Website': 'N/A',\n",
       " 'Response': 'True'}"
      ]
     },
     "execution_count": 41,
     "metadata": {},
     "output_type": "execute_result"
    }
   ],
   "source": [
    "data = res.json()\n",
    "\n",
    "data"
   ]
  },
  {
   "cell_type": "code",
   "execution_count": 48,
   "id": "6bc7527e",
   "metadata": {},
   "outputs": [
    {
     "data": {
      "text/html": [
       "<div>\n",
       "<style scoped>\n",
       "    .dataframe tbody tr th:only-of-type {\n",
       "        vertical-align: middle;\n",
       "    }\n",
       "\n",
       "    .dataframe tbody tr th {\n",
       "        vertical-align: top;\n",
       "    }\n",
       "\n",
       "    .dataframe thead th {\n",
       "        text-align: right;\n",
       "    }\n",
       "</style>\n",
       "<table border=\"1\" class=\"dataframe\">\n",
       "  <thead>\n",
       "    <tr style=\"text-align: right;\">\n",
       "      <th></th>\n",
       "      <th>Title</th>\n",
       "      <th>Year</th>\n",
       "      <th>Rated</th>\n",
       "      <th>Released</th>\n",
       "      <th>Runtime</th>\n",
       "      <th>Genre</th>\n",
       "      <th>Director</th>\n",
       "      <th>Writer</th>\n",
       "      <th>Actors</th>\n",
       "      <th>Plot</th>\n",
       "      <th>...</th>\n",
       "      <th>Metascore</th>\n",
       "      <th>imdbRating</th>\n",
       "      <th>imdbVotes</th>\n",
       "      <th>imdbID</th>\n",
       "      <th>Type</th>\n",
       "      <th>DVD</th>\n",
       "      <th>BoxOffice</th>\n",
       "      <th>Production</th>\n",
       "      <th>Website</th>\n",
       "      <th>Response</th>\n",
       "    </tr>\n",
       "  </thead>\n",
       "  <tbody>\n",
       "    <tr>\n",
       "      <th>0</th>\n",
       "      <td>Guardians of the Galaxy Vol. 2</td>\n",
       "      <td>2017</td>\n",
       "      <td>PG-13</td>\n",
       "      <td>05 May 2017</td>\n",
       "      <td>136 min</td>\n",
       "      <td>Action, Adventure, Comedy</td>\n",
       "      <td>James Gunn</td>\n",
       "      <td>James Gunn, Dan Abnett, Andy Lanning</td>\n",
       "      <td>Chris Pratt, Zoe Saldana, Dave Bautista</td>\n",
       "      <td>The Guardians struggle to keep together as a t...</td>\n",
       "      <td>...</td>\n",
       "      <td>67</td>\n",
       "      <td>7.6</td>\n",
       "      <td>691,435</td>\n",
       "      <td>tt3896198</td>\n",
       "      <td>movie</td>\n",
       "      <td>22 Aug 2017</td>\n",
       "      <td>$389,813,101</td>\n",
       "      <td>N/A</td>\n",
       "      <td>N/A</td>\n",
       "      <td>True</td>\n",
       "    </tr>\n",
       "    <tr>\n",
       "      <th>1</th>\n",
       "      <td>Guardians of the Galaxy Vol. 2</td>\n",
       "      <td>2017</td>\n",
       "      <td>PG-13</td>\n",
       "      <td>05 May 2017</td>\n",
       "      <td>136 min</td>\n",
       "      <td>Action, Adventure, Comedy</td>\n",
       "      <td>James Gunn</td>\n",
       "      <td>James Gunn, Dan Abnett, Andy Lanning</td>\n",
       "      <td>Chris Pratt, Zoe Saldana, Dave Bautista</td>\n",
       "      <td>The Guardians struggle to keep together as a t...</td>\n",
       "      <td>...</td>\n",
       "      <td>67</td>\n",
       "      <td>7.6</td>\n",
       "      <td>691,435</td>\n",
       "      <td>tt3896198</td>\n",
       "      <td>movie</td>\n",
       "      <td>22 Aug 2017</td>\n",
       "      <td>$389,813,101</td>\n",
       "      <td>N/A</td>\n",
       "      <td>N/A</td>\n",
       "      <td>True</td>\n",
       "    </tr>\n",
       "    <tr>\n",
       "      <th>2</th>\n",
       "      <td>Guardians of the Galaxy Vol. 2</td>\n",
       "      <td>2017</td>\n",
       "      <td>PG-13</td>\n",
       "      <td>05 May 2017</td>\n",
       "      <td>136 min</td>\n",
       "      <td>Action, Adventure, Comedy</td>\n",
       "      <td>James Gunn</td>\n",
       "      <td>James Gunn, Dan Abnett, Andy Lanning</td>\n",
       "      <td>Chris Pratt, Zoe Saldana, Dave Bautista</td>\n",
       "      <td>The Guardians struggle to keep together as a t...</td>\n",
       "      <td>...</td>\n",
       "      <td>67</td>\n",
       "      <td>7.6</td>\n",
       "      <td>691,435</td>\n",
       "      <td>tt3896198</td>\n",
       "      <td>movie</td>\n",
       "      <td>22 Aug 2017</td>\n",
       "      <td>$389,813,101</td>\n",
       "      <td>N/A</td>\n",
       "      <td>N/A</td>\n",
       "      <td>True</td>\n",
       "    </tr>\n",
       "  </tbody>\n",
       "</table>\n",
       "<p>3 rows × 25 columns</p>\n",
       "</div>"
      ],
      "text/plain": [
       "                            Title  Year  Rated     Released  Runtime  \\\n",
       "0  Guardians of the Galaxy Vol. 2  2017  PG-13  05 May 2017  136 min   \n",
       "1  Guardians of the Galaxy Vol. 2  2017  PG-13  05 May 2017  136 min   \n",
       "2  Guardians of the Galaxy Vol. 2  2017  PG-13  05 May 2017  136 min   \n",
       "\n",
       "                       Genre    Director  \\\n",
       "0  Action, Adventure, Comedy  James Gunn   \n",
       "1  Action, Adventure, Comedy  James Gunn   \n",
       "2  Action, Adventure, Comedy  James Gunn   \n",
       "\n",
       "                                 Writer  \\\n",
       "0  James Gunn, Dan Abnett, Andy Lanning   \n",
       "1  James Gunn, Dan Abnett, Andy Lanning   \n",
       "2  James Gunn, Dan Abnett, Andy Lanning   \n",
       "\n",
       "                                    Actors  \\\n",
       "0  Chris Pratt, Zoe Saldana, Dave Bautista   \n",
       "1  Chris Pratt, Zoe Saldana, Dave Bautista   \n",
       "2  Chris Pratt, Zoe Saldana, Dave Bautista   \n",
       "\n",
       "                                                Plot  ... Metascore  \\\n",
       "0  The Guardians struggle to keep together as a t...  ...        67   \n",
       "1  The Guardians struggle to keep together as a t...  ...        67   \n",
       "2  The Guardians struggle to keep together as a t...  ...        67   \n",
       "\n",
       "  imdbRating imdbVotes     imdbID   Type          DVD     BoxOffice  \\\n",
       "0        7.6   691,435  tt3896198  movie  22 Aug 2017  $389,813,101   \n",
       "1        7.6   691,435  tt3896198  movie  22 Aug 2017  $389,813,101   \n",
       "2        7.6   691,435  tt3896198  movie  22 Aug 2017  $389,813,101   \n",
       "\n",
       "  Production Website Response  \n",
       "0        N/A     N/A     True  \n",
       "1        N/A     N/A     True  \n",
       "2        N/A     N/A     True  \n",
       "\n",
       "[3 rows x 25 columns]"
      ]
     },
     "execution_count": 48,
     "metadata": {},
     "output_type": "execute_result"
    }
   ],
   "source": [
    "#Creating a DataFrame of the Json data\n",
    "df = pd.DataFrame(data, columns=[i for i in data])\n",
    "df"
   ]
  },
  {
   "cell_type": "code",
   "execution_count": 49,
   "id": "3c953e0e",
   "metadata": {},
   "outputs": [],
   "source": [
    "movies = []\n",
    "if data['Response'] == 'True':\n",
    "    movie_data = {}\n",
    "    movie_data['Title'] = data['Title']\n",
    "    movie_data['Year'] = data['Year']\n",
    "    movie_data['Director'] = data['Director']\n",
    "    movie_data['Rating'] = data['imdbRating']\n",
    "    movies.append(movie_data)"
   ]
  },
  {
   "cell_type": "code",
   "execution_count": 52,
   "id": "67b0bb47",
   "metadata": {},
   "outputs": [
    {
     "data": {
      "text/html": [
       "<div>\n",
       "<style scoped>\n",
       "    .dataframe tbody tr th:only-of-type {\n",
       "        vertical-align: middle;\n",
       "    }\n",
       "\n",
       "    .dataframe tbody tr th {\n",
       "        vertical-align: top;\n",
       "    }\n",
       "\n",
       "    .dataframe thead th {\n",
       "        text-align: right;\n",
       "    }\n",
       "</style>\n",
       "<table border=\"1\" class=\"dataframe\">\n",
       "  <thead>\n",
       "    <tr style=\"text-align: right;\">\n",
       "      <th></th>\n",
       "      <th>Title</th>\n",
       "      <th>Year</th>\n",
       "      <th>Director</th>\n",
       "      <th>Rating</th>\n",
       "    </tr>\n",
       "  </thead>\n",
       "  <tbody>\n",
       "    <tr>\n",
       "      <th>0</th>\n",
       "      <td>Guardians of the Galaxy Vol. 2</td>\n",
       "      <td>2017</td>\n",
       "      <td>James Gunn</td>\n",
       "      <td>7.6</td>\n",
       "    </tr>\n",
       "  </tbody>\n",
       "</table>\n",
       "</div>"
      ],
      "text/plain": [
       "                            Title  Year    Director Rating\n",
       "0  Guardians of the Galaxy Vol. 2  2017  James Gunn    7.6"
      ]
     },
     "execution_count": 52,
     "metadata": {},
     "output_type": "execute_result"
    }
   ],
   "source": [
    "df_1 = pd.DataFrame(movies, columns=['Title','Year','Director','Rating'])\n",
    "df_1"
   ]
  }
 ],
 "metadata": {
  "kernelspec": {
   "display_name": "Python 3 (ipykernel)",
   "language": "python",
   "name": "python3"
  },
  "language_info": {
   "codemirror_mode": {
    "name": "ipython",
    "version": 3
   },
   "file_extension": ".py",
   "mimetype": "text/x-python",
   "name": "python",
   "nbconvert_exporter": "python",
   "pygments_lexer": "ipython3",
   "version": "3.9.12"
  }
 },
 "nbformat": 4,
 "nbformat_minor": 5
}
